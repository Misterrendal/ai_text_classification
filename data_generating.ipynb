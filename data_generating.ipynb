{
 "cells": [
  {
   "cell_type": "code",
   "execution_count": 1,
   "id": "initial_id",
   "metadata": {
    "collapsed": true,
    "ExecuteTime": {
     "end_time": "2024-05-10T02:29:22.034353Z",
     "start_time": "2024-05-10T02:28:22.433288Z"
    }
   },
   "outputs": [
    {
     "name": "stderr",
     "output_type": "stream",
     "text": [
      "[nltk_data] Downloading package punkt to /home/rendal/nltk_data...\n",
      "[nltk_data]   Package punkt is already up-to-date!\n",
      "[nltk_data] Downloading package averaged_perceptron_tagger to\n",
      "[nltk_data]     /home/rendal/nltk_data...\n",
      "[nltk_data]   Package averaged_perceptron_tagger is already up-to-\n",
      "[nltk_data]       date!\n",
      "/home/rendal/Documents/upwork/TextAiClassification/.venv/lib/python3.10/site-packages/pydantic/_internal/_fields.py:160: UserWarning: Field \"model_name\" has conflict with protected namespace \"model_\".\n",
      "\n",
      "You may be able to resolve this warning by setting `model_config['protected_namespaces'] = ()`.\n",
      "  warnings.warn(\n",
      "/home/rendal/Documents/upwork/TextAiClassification/.venv/lib/python3.10/site-packages/pydantic/_internal/_fields.py:160: UserWarning: Field \"model_params\" has conflict with protected namespace \"model_\".\n",
      "\n",
      "You may be able to resolve this warning by setting `model_config['protected_namespaces'] = ()`.\n",
      "  warnings.warn(\n"
     ]
    },
    {
     "name": "stdout",
     "output_type": "stream",
     "text": [
      "Initializing OllamaModel llama3\n",
      "Initializing OllamaModel mistral\n",
      "DataGenerator initializing...\n",
      "Models [llama3, mistral]\n",
      "model_probs [0.5, 0.5]\n"
     ]
    },
    {
     "data": {
      "text/plain": "Resolving data files:   0%|          | 0/30 [00:00<?, ?it/s]",
      "application/vnd.jupyter.widget-view+json": {
       "version_major": 2,
       "version_minor": 0,
       "model_id": "357af4fd2a5340339a7ad712b91f3532"
      }
     },
     "metadata": {},
     "output_type": "display_data"
    },
    {
     "data": {
      "text/plain": "Resolving data files:   0%|          | 0/30 [00:00<?, ?it/s]",
      "application/vnd.jupyter.widget-view+json": {
       "version_major": 2,
       "version_minor": 0,
       "model_id": "d33750082b5b46c18e772ad993e80484"
      }
     },
     "metadata": {},
     "output_type": "display_data"
    },
    {
     "name": "stdout",
     "output_type": "stream",
     "text": [
      "Initializing OllamaModel zephyr:7b-beta\n"
     ]
    },
    {
     "name": "stderr",
     "output_type": "stream",
     "text": [
      "/home/rendal/Documents/upwork/TextAiClassification/.venv/lib/python3.10/site-packages/huggingface_hub/file_download.py:1132: FutureWarning: `resume_download` is deprecated and will be removed in version 1.0.0. Downloads always resume when possible. If you want to force a new download, use `force_download=True`.\n",
      "  warnings.warn(\n"
     ]
    },
    {
     "name": "stdout",
     "output_type": "stream",
     "text": [
      "DataGenerator initialized\n",
      "Generating 10 samples of AI data\n"
     ]
    },
    {
     "name": "stderr",
     "output_type": "stream",
     "text": [
      "Generating AI data:   0%|          | 0/2 [00:00<?, ?it/s]"
     ]
    },
    {
     "name": "stdout",
     "output_type": "stream",
     "text": [
      "Generating with llama3 model and params {'top_k': 20, 'top_p': 0.5477846180784158, 'temperature': 0.8857064487898251, 'repeat_penalty': 1.44375953371477}\n",
      "Getting prompt from pile\n",
      "Getting prompt from pile\n",
      "Getting prompt from pile\n",
      "Getting prompt from pile\n",
      "Getting prompt from pile\n"
     ]
    },
    {
     "name": "stderr",
     "output_type": "stream",
     "text": [
      "Generating AI data:  50%|█████     | 1/2 [00:19<00:19, 19.57s/it]"
     ]
    },
    {
     "name": "stdout",
     "output_type": "stream",
     "text": [
      "Generating with mistral model and params {'top_k': 20, 'top_p': 0.7033056343101467, 'temperature': 0.5740136476591071, 'repeat_penalty': 1.1766124985522721}\n",
      "Getting prompt from pile\n",
      "Getting prompt from pile\n",
      "Getting prompt from pile\n",
      "Getting prompt from pile\n",
      "Getting prompt from pile\n"
     ]
    },
    {
     "name": "stderr",
     "output_type": "stream",
     "text": [
      "Generating AI data: 100%|██████████| 2/2 [00:36<00:00, 18.17s/it]\n"
     ]
    },
    {
     "name": "stdout",
     "output_type": "stream",
     "text": [
      "Generating 10 samples of Human data\n"
     ]
    },
    {
     "name": "stderr",
     "output_type": "stream",
     "text": [
      "Generating Humand Data: 100%|██████████| 10/10 [00:03<00:00,  3.15it/s]\n"
     ]
    }
   ],
   "source": [
    "from scripts.data_generator import DataGenerator\n",
    "from scripts.model.text_completion import OllamaModel\n",
    "\n",
    "model_names = ['llama3', 'mistral']\n",
    "models = [OllamaModel(model_name) for model_name in model_names]\n",
    "data_generator = DataGenerator(models, [0.5, 0.5])\n",
    "ai_data = data_generator.generate_ai_data(10)\n",
    "human_data = data_generator.generate_human_data(10)"
   ]
  },
  {
   "cell_type": "code",
   "outputs": [],
   "source": [
    "import pandas as pd\n",
    "\n",
    "from scripts.model.models import ValDataRow\n",
    "\n",
    "df = pd.DataFrame(columns=list(ValDataRow.model_fields.keys()))\n",
    "for ai_data_row in ai_data:\n",
    "    df.loc[df.shape[0]] = ai_data_row.model_dump()\n",
    "for human_data_row in human_data:\n",
    "    df.loc[df.shape[0]] = human_data_row.model_dump()"
   ],
   "metadata": {
    "collapsed": false,
    "ExecuteTime": {
     "end_time": "2024-05-10T02:29:47.719176Z",
     "start_time": "2024-05-10T02:29:47.698320Z"
    }
   },
   "id": "ce7c2890b3053ee5",
   "execution_count": 4
  },
  {
   "cell_type": "code",
   "outputs": [],
   "source": [
    "df.to_csv('resources/data.csv', index=False)"
   ],
   "metadata": {
    "collapsed": false,
    "ExecuteTime": {
     "end_time": "2024-05-10T02:34:12.115706Z",
     "start_time": "2024-05-10T02:34:12.111970Z"
    }
   },
   "id": "6152e005425e6569",
   "execution_count": 7
  },
  {
   "cell_type": "code",
   "outputs": [
    {
     "data": {
      "text/plain": "                                                    label  \\\ntext                                                        \nhere! With John McCain's announcement yesterday...   True   \nto Omaha Steaks International, Inc., the defend...   True   \nfunction foo(callback). When you call the funct...   True   \nmentation and complex structures, making them r...   True   \nShe found new friends and a support system that...   True   \n.window {\\n  overflow: hidden;\\n  padding: 5px;...   True   \nMartens, an eight-time prime minister who led c...   True   \n...revealing that over a quarter of these admis...   True   \nenderContext; }}\\n\\nusing namespace std;\\nusing...   True   \nA haptic device or interface can create various...   True   \nThat is, all the elements in the array have bee...  False   \nrself hydrated. If you choose to consume alcoho...  False   \nfactor: 1.0\\n             uniform: true\\n      ...  False   \nred interviews conducted with key informants we...  False   \nith your order. Copyright 2001-2016 R&W Engravi...  False   \ne equipment you need for a round of golf , the ...  False   \n, decentralized digital money. Often, they also...  False   \n   },\\n    {\\n      \"type\": \"Action.OpenUrl\",\\n...  False   \next, a ramp? But you know what? I think the ans...  False   \nDoppler and color flow mapping is more sensitiv...  False   \n\n                                                                                               prompt  \\\ntext                                                                                                    \nhere! With John McCain's announcement yesterday...  Posts Tagged ‘John McCain’\\n\\nSarah Palin is a...   \nto Omaha Steaks International, Inc., the defend...  \\n307 N.W.2d 790 (1981)\\n209 Neb. 327\\nFIRST D...   \nfunction foo(callback). When you call the funct...  Q:\\n\\nSetting the scope of a callback to where...   \nmentation and complex structures, making them r...  Physically unclonable functions (PUFs) can be ...   \nShe found new friends and a support system that...  Tuesday, July 2, 2013\\n\\nHer conquest\\n\\nShe s...   \n.window {\\n  overflow: hidden;\\n  padding: 5px;...  .window {\\n  overflow: hidden;\\n  padding: 5px...   \nMartens, an eight-time prime minister who led c...  Belgium government collapse: King asks former ...   \n...revealing that over a quarter of these admis...  EDITORIAL: Hunter campaign to improve palliati...   \nenderContext; }}\\n\\nusing namespace std;\\nusing...  /*********************************************...   \nA haptic device or interface can create various...  Haptic technology is becoming a more popular w...   \nThat is, all the elements in the array have bee...                                                NaN   \nrself hydrated. If you choose to consume alcoho...                                                NaN   \nfactor: 1.0\\n             uniform: true\\n      ...                                                NaN   \nred interviews conducted with key informants we...                                                NaN   \nith your order. Copyright 2001-2016 R&W Engravi...                                                NaN   \ne equipment you need for a round of golf , the ...                                                NaN   \n, decentralized digital money. Often, they also...                                                NaN   \n   },\\n    {\\n      \"type\": \"Action.OpenUrl\",\\n...                                                NaN   \next, a ramp? But you know what? I think the ans...                                                NaN   \nDoppler and color flow mapping is more sensitiv...                                                NaN   \n\n                                                   data_source   model_name  \\\ntext                                                                          \nhere! With John McCain's announcement yesterday...        pile       llama3   \nto Omaha Steaks International, Inc., the defend...        pile       llama3   \nfunction foo(callback). When you call the funct...        pile      mistral   \nmentation and complex structures, making them r...        pile      mistral   \nShe found new friends and a support system that...        pile  neural-chat   \n.window {\\n  overflow: hidden;\\n  padding: 5px;...        pile  neural-chat   \nMartens, an eight-time prime minister who led c...        pile     gemma:7b   \n...revealing that over a quarter of these admis...        pile     gemma:7b   \nenderContext; }}\\n\\nusing namespace std;\\nusing...        pile        solar   \nA haptic device or interface can create various...        pile        solar   \nThat is, all the elements in the array have bee...  pile_human          NaN   \nrself hydrated. If you choose to consume alcoho...  pile_human          NaN   \nfactor: 1.0\\n             uniform: true\\n      ...  pile_human          NaN   \nred interviews conducted with key informants we...  pile_human          NaN   \nith your order. Copyright 2001-2016 R&W Engravi...  pile_human          NaN   \ne equipment you need for a round of golf , the ...  pile_human          NaN   \n, decentralized digital money. Often, they also...  pile_human          NaN   \n   },\\n    {\\n      \"type\": \"Action.OpenUrl\",\\n...  pile_human          NaN   \next, a ramp? But you know what? I think the ans...  pile_human          NaN   \nDoppler and color flow mapping is more sensitiv...  pile_human          NaN   \n\n                                                                                         model_params  \\\ntext                                                                                                    \nhere! With John McCain's announcement yesterday...  {'top_k': 20, 'top_p': 0.6795358002423546, 'te...   \nto Omaha Steaks International, Inc., the defend...  {'top_k': 20, 'top_p': 0.6795358002423546, 'te...   \nfunction foo(callback). When you call the funct...  {'top_k': None, 'top_p': 0.9487894770226952, '...   \nmentation and complex structures, making them r...  {'top_k': None, 'top_p': 0.9487894770226952, '...   \nShe found new friends and a support system that...  {'top_k': 20, 'top_p': 0.7130372234108368, 'te...   \n.window {\\n  overflow: hidden;\\n  padding: 5px;...  {'top_k': 20, 'top_p': 0.7130372234108368, 'te...   \nMartens, an eight-time prime minister who led c...  {'top_k': None, 'top_p': 0.8860927425776799, '...   \n...revealing that over a quarter of these admis...  {'top_k': None, 'top_p': 0.8860927425776799, '...   \nenderContext; }}\\n\\nusing namespace std;\\nusing...  {'top_k': 20, 'top_p': 0.6529552409555363, 'te...   \nA haptic device or interface can create various...  {'top_k': 20, 'top_p': 0.6529552409555363, 'te...   \nThat is, all the elements in the array have bee...                                                NaN   \nrself hydrated. If you choose to consume alcoho...                                                NaN   \nfactor: 1.0\\n             uniform: true\\n      ...                                                NaN   \nred interviews conducted with key informants we...                                                NaN   \nith your order. Copyright 2001-2016 R&W Engravi...                                                NaN   \ne equipment you need for a round of golf , the ...                                                NaN   \n, decentralized digital money. Often, they also...                                                NaN   \n   },\\n    {\\n      \"type\": \"Action.OpenUrl\",\\n...                                                NaN   \next, a ramp? But you know what? I think the ans...                                                NaN   \nDoppler and color flow mapping is more sensitiv...                                                NaN   \n\n                                                    persona_profile  \\\ntext                                                                  \nhere! With John McCain's announcement yesterday...              NaN   \nto Omaha Steaks International, Inc., the defend...              NaN   \nfunction foo(callback). When you call the funct...              NaN   \nmentation and complex structures, making them r...              NaN   \nShe found new friends and a support system that...              NaN   \n.window {\\n  overflow: hidden;\\n  padding: 5px;...              NaN   \nMartens, an eight-time prime minister who led c...              NaN   \n...revealing that over a quarter of these admis...              NaN   \nenderContext; }}\\n\\nusing namespace std;\\nusing...              NaN   \nA haptic device or interface can create various...              NaN   \nThat is, all the elements in the array have bee...              NaN   \nrself hydrated. If you choose to consume alcoho...              NaN   \nfactor: 1.0\\n             uniform: true\\n      ...              NaN   \nred interviews conducted with key informants we...              NaN   \nith your order. Copyright 2001-2016 R&W Engravi...              NaN   \ne equipment you need for a round of golf , the ...              NaN   \n, decentralized digital money. Often, they also...              NaN   \n   },\\n    {\\n      \"type\": \"Action.OpenUrl\",\\n...              NaN   \next, a ramp? But you know what? I think the ans...              NaN   \nDoppler and color flow mapping is more sensitiv...              NaN   \n\n                                                    persona_mood  person_ton  \\\ntext                                                                           \nhere! With John McCain's announcement yesterday...           NaN         NaN   \nto Omaha Steaks International, Inc., the defend...           NaN         NaN   \nfunction foo(callback). When you call the funct...           NaN         NaN   \nmentation and complex structures, making them r...           NaN         NaN   \nShe found new friends and a support system that...           NaN         NaN   \n.window {\\n  overflow: hidden;\\n  padding: 5px;...           NaN         NaN   \nMartens, an eight-time prime minister who led c...           NaN         NaN   \n...revealing that over a quarter of these admis...           NaN         NaN   \nenderContext; }}\\n\\nusing namespace std;\\nusing...           NaN         NaN   \nA haptic device or interface can create various...           NaN         NaN   \nThat is, all the elements in the array have bee...           NaN         NaN   \nrself hydrated. If you choose to consume alcoho...           NaN         NaN   \nfactor: 1.0\\n             uniform: true\\n      ...           NaN         NaN   \nred interviews conducted with key informants we...           NaN         NaN   \nith your order. Copyright 2001-2016 R&W Engravi...           NaN         NaN   \ne equipment you need for a round of golf , the ...           NaN         NaN   \n, decentralized digital money. Often, they also...           NaN         NaN   \n   },\\n    {\\n      \"type\": \"Action.OpenUrl\",\\n...           NaN         NaN   \next, a ramp? But you know what? I think the ans...           NaN         NaN   \nDoppler and color flow mapping is more sensitiv...           NaN         NaN   \n\n                                                    task  \\\ntext                                                       \nhere! With John McCain's announcement yesterday...   NaN   \nto Omaha Steaks International, Inc., the defend...   NaN   \nfunction foo(callback). When you call the funct...   NaN   \nmentation and complex structures, making them r...   NaN   \nShe found new friends and a support system that...   NaN   \n.window {\\n  overflow: hidden;\\n  padding: 5px;...   NaN   \nMartens, an eight-time prime minister who led c...   NaN   \n...revealing that over a quarter of these admis...   NaN   \nenderContext; }}\\n\\nusing namespace std;\\nusing...   NaN   \nA haptic device or interface can create various...   NaN   \nThat is, all the elements in the array have bee...   NaN   \nrself hydrated. If you choose to consume alcoho...   NaN   \nfactor: 1.0\\n             uniform: true\\n      ...   NaN   \nred interviews conducted with key informants we...   NaN   \nith your order. Copyright 2001-2016 R&W Engravi...   NaN   \ne equipment you need for a round of golf , the ...   NaN   \n, decentralized digital money. Often, they also...   NaN   \n   },\\n    {\\n      \"type\": \"Action.OpenUrl\",\\n...   NaN   \next, a ramp? But you know what? I think the ans...   NaN   \nDoppler and color flow mapping is more sensitiv...   NaN   \n\n                                                                                        augmentations  \ntext                                                                                                   \nhere! With John McCain's announcement yesterday...  ['SubsampleSentences', 'typo_nearby_char', 'Re...  \nto Omaha Steaks International, Inc., the defend...   ['SubsampleSentences', 'CapitalizeRandomLetter']  \nfunction foo(callback). When you call the funct...  ['SubsampleSentences', 'typo_repeated_char', '...  \nmentation and complex structures, making them r...        ['SubsampleSentences', 'typo_similar_char']  \nShe found new friends and a support system that...                             ['SubsampleSentences']  \n.window {\\n  overflow: hidden;\\n  padding: 5px;...  ['SubsampleSentences', 'typo_repeated_char', '...  \nMartens, an eight-time prime minister who led c...       ['SubsampleSentences', 'typo_repeated_char']  \n...revealing that over a quarter of these admis...  ['SubsampleSentences', 'typo_missing_char', 't...  \nenderContext; }}\\n\\nusing namespace std;\\nusing...             ['SubsampleSentences', 'typo_unichar']  \nA haptic device or interface can create various...  ['SubsampleSentences', 'typo_repeated_char', '...  \nThat is, all the elements in the array have bee...    ['SubsampleSentences', 'RemoveRandomAdjective']  \nrself hydrated. If you choose to consume alcoho...  ['SubsampleSentences', 'typo_skipped_space', '...  \nfactor: 1.0\\n             uniform: true\\n      ...  ['SubsampleSentences', 'RemoveRandomAdjective'...  \nred interviews conducted with key informants we...  ['SubsampleSentences', 'typo_repeated_char', '...  \nith your order. Copyright 2001-2016 R&W Engravi...  ['SubsampleSentences', 'typo_random_space', 'R...  \ne equipment you need for a round of golf , the ...  ['SubsampleSentences', 'typo_unichar', 'typo_e...  \n, decentralized digital money. Often, they also...                             ['SubsampleSentences']  \n   },\\n    {\\n      \"type\": \"Action.OpenUrl\",\\n...  ['SubsampleSentences', 'typo_extra_char', 'Rem...  \next, a ramp? But you know what? I think the ans...                             ['SubsampleSentences']  \nDoppler and color flow mapping is more sensitiv...       ['SubsampleSentences', 'typo_repeated_char']  ",
      "text/html": "<div>\n<style scoped>\n    .dataframe tbody tr th:only-of-type {\n        vertical-align: middle;\n    }\n\n    .dataframe tbody tr th {\n        vertical-align: top;\n    }\n\n    .dataframe thead th {\n        text-align: right;\n    }\n</style>\n<table border=\"1\" class=\"dataframe\">\n  <thead>\n    <tr style=\"text-align: right;\">\n      <th></th>\n      <th>label</th>\n      <th>prompt</th>\n      <th>data_source</th>\n      <th>model_name</th>\n      <th>model_params</th>\n      <th>persona_profile</th>\n      <th>persona_mood</th>\n      <th>person_ton</th>\n      <th>task</th>\n      <th>augmentations</th>\n    </tr>\n    <tr>\n      <th>text</th>\n      <th></th>\n      <th></th>\n      <th></th>\n      <th></th>\n      <th></th>\n      <th></th>\n      <th></th>\n      <th></th>\n      <th></th>\n      <th></th>\n    </tr>\n  </thead>\n  <tbody>\n    <tr>\n      <th>here! With John McCain's announcement yesterday that he won't be running for president in '12, the field has just gotten more interesting. Sarah Palin is an incorrigible flirt. For two years, she has teased us with the possibility of a presidential run. Back in May (when she dressed in black and joined a motorcycle rally) it felt like a wink-wink-nudge-nudge moment - but we've yet to see her officially throw her hat into the ring.</th>\n      <td>True</td>\n      <td>Posts Tagged ‘John McCain’\\n\\nSarah Palin is a...</td>\n      <td>pile</td>\n      <td>llama3</td>\n      <td>{'top_k': 20, 'top_p': 0.6795358002423546, 'te...</td>\n      <td>NaN</td>\n      <td>NaN</td>\n      <td>NaN</td>\n      <td>NaN</td>\n      <td>['SubsampleSentences', 'typo_nearby_char', 'Re...</td>\n    </tr>\n    <tr>\n      <th>to Omaha Steaks International, Inc., the defendant in this case. The contract between FDR and Omaha Steaks required that all work performed by FDR be done \"with reasonable care\" And with no liability for consequential damages unless specified otherwise. In 1978, a fire occurred at one of FDR's facilities which caused damage to its equipment and software systems used to process data for various clients. The loss was substantial enough to cause delays in the processing services provided by FDR, resulting in financial losses to some of their customers...</th>\n      <td>True</td>\n      <td>\\n307 N.W.2d 790 (1981)\\n209 Neb. 327\\nFIRST D...</td>\n      <td>pile</td>\n      <td>llama3</td>\n      <td>{'top_k': 20, 'top_p': 0.6795358002423546, 'te...</td>\n      <td>NaN</td>\n      <td>NaN</td>\n      <td>NaN</td>\n      <td>NaN</td>\n      <td>['SubsampleSentences', 'CapitalizeRandomLetter']</td>\n    </tr>\n    <tr>\n      <th>function foo(callback). When you call the function foo with bar as an argument, it creates a new variable \"a\" within the scope of foo and sets its value to false before calling callback(). The original global variable \"a\" remains unchanged. Hence, when bar() is executed outside of foo, it still sees the old value of true for 'a'. To change this behavior and alert false from bar(), you need either to pass that new local 'a' as an argument or modify your function design altogether so that they Share a common scope where the variable exists. So in brief: You cannot directly achieve changing 'a' within foo without arguments, affecting its global value outside of it</th>\n      <td>True</td>\n      <td>Q:\\n\\nSetting the scope of a callback to where...</td>\n      <td>pile</td>\n      <td>mistral</td>\n      <td>{'top_k': None, 'top_p': 0.9487894770226952, '...</td>\n      <td>NaN</td>\n      <td>NaN</td>\n      <td>NaN</td>\n      <td>NaN</td>\n      <td>['SubsampleSentences', 'typo_repeated_char', '...</td>\n    </tr>\n    <tr>\n      <th>mentation and complex structures, making them resistant to cloning even if an attacker gains direct access to the chip itself. In essence, PUFs act as a fingerprint for every specific electronic part in a system. They can be employed not only to detect unauthorized manipulation but also serve multiple purposes: identification of genuine components during manufacturing and deployment; encryption key generation based on individual identities; or even provide secure boot mechanisms that ensure the authenticity of firmware code, among other applications. The operating principle behind PUFs lies in their non-clonability – a consequence from their physical nature (such as variations resulting from fabrication processes). Examples include Arbiter Based Logic (ABL) circuits and Random Telegraph Noise (RTN) based systems, which rely o</th>\n      <td>True</td>\n      <td>Physically unclonable functions (PUFs) can be ...</td>\n      <td>pile</td>\n      <td>mistral</td>\n      <td>{'top_k': None, 'top_p': 0.9487894770226952, '...</td>\n      <td>NaN</td>\n      <td>NaN</td>\n      <td>NaN</td>\n      <td>NaN</td>\n      <td>['SubsampleSentences', 'typo_similar_char']</td>\n    </tr>\n    <tr>\n      <th>She found new friends and a support system that helped her rebuild her life. With the support of her loved ones, she began to rediscover her self-worth and happiness. Years later, she found herself in a healthy, loving relationship, where she was treated with the respect and care she deserved. The lessons she learned from her previous relationship empowered her to be more assertive and self-aware, and she was finally able to give and receive love in a healthy, nurturing way. Today, she looks back on her journey with pride and gratitude. The experiences she had with her former conquest had shaped her into the strong, independent woman she is today. She had found her inner strength, and she was proud of the woman she had become.</th>\n      <td>True</td>\n      <td>Tuesday, July 2, 2013\\n\\nHer conquest\\n\\nShe s...</td>\n      <td>pile</td>\n      <td>neural-chat</td>\n      <td>{'top_k': 20, 'top_p': 0.7130372234108368, 'te...</td>\n      <td>NaN</td>\n      <td>NaN</td>\n      <td>NaN</td>\n      <td>NaN</td>\n      <td>['SubsampleSentences']</td>\n    </tr>\n    <tr>\n      <th>.window {\\n  overflow: hidden;\\n  padding: 5px;\\n  border-width: 1px;\\n  border-style: solid;\\n}\\n\\n.window .window-header {\\n  background: transparent;\\n  padding: 0px 0px 6px 0px;\\n}\\n\\n.window .window-body {\\n  border-width: 1px;\\n  border-style: solid;\\n  border-top-width: 0px;\\n}\\n\\n.window .window-body-noheader {\\n  border-top-width: 1px;\\n}\\n\\n.window .window-header .panel-icon,\\n.window .window-header .panel-tool {\\n  top: 50%;\\n  margin-top: -11px;\\n}\\n\\n.window .window-header .panel-icon {\\n  left: 1px;\\n}\\n\\n.window .window-header .panel-tool {\\n  right: 1px;\\n}\\n\\n.window .window-header .panel-with-icon {\\n  padding-left: 18px;\\n}\\n\\n.window-proxy {\\n  position: absolute;\\n  overflow: hidden;\\n}\\n\\n.window-proxy-mask {\\n  position: absolute;\\n  filter: alpha(opacity=5);\\n  opacity: 0.05;\\n}\\n\\n.window-mask {\\n  position: absolute;\\n  left: 0;\\n  top: 0;\\n  width: 100%;\\n  height: 100%;\\n  filter: alpha(opacity=40);\\n  opacity: 0.40;\\n  font-size: 1px;\\n  overflow: hidden;\\n}\\n\\n.window,\\n.window-shadow {\\n  position: absolute;\\n  -moz-border-radius: 5px 5px 5px 5px;\\n  -webkit-border-radius: 5px 5px 5px 5px;\\n  border-radius: 5px 5px 5px 5px;\\n}\\n\\n.window-shadow {\\n  background: #777;\\n  -moz-box-shadow: 2px 2px 3px #787878;\\n  -webkit-box-shadow: 2px 2px 3px #787878;\\n  box-shadow: 2px 2px 3px #787878;\\n  filter: progid:DXImageTransform.Microsoft.Blur(properties(startX,startY,endX,endY,width,height,sigma,quality,iterations));\\n  filter: progid:DXImageTransform.Microsoft.Blur(pixelRadius=3,makeMurky=false,iterations=10,blur=100,quality=3,shadowOffset=0,shadowColor=#777,shadowStrength=10,shadowX=0,shadowY=0,blurMethod=1,iterations=0,blurStrength=0,iterations=0,blurStrength=0,iterations=0,blurStrength=0,iterations=0,blurStrength=0,iterations=0,blurStrength=0,iterations=0,blurStrength=0,iterations=0,blurStrength=0,iterations=0,blurStrength=0,iterations=0,blurStrength=0,iterations=0,blurStrength=0,iterations=0,blurStrength=0,iterations=0,blurStrength=0,iterations=0,blurStrength=0,iterations=0,blurStrength=0,iterations=0,blurStrength=0,iterations=0,blurStrength=0,iterations=0,blurStrength=0,iterations=0,blurStrength=0,iterations=0,blurStrength=0,iterations=0,blurStrength=0,iterations=0,blurStrength=0,iterations=0,blurStrength=0,iterations=0,blurStrength=0</th>\n      <td>True</td>\n      <td>.window {\\n  overflow: hidden;\\n  padding: 5px...</td>\n      <td>pile</td>\n      <td>neural-chat</td>\n      <td>{'top_k': 20, 'top_p': 0.7130372234108368, 'te...</td>\n      <td>NaN</td>\n      <td>NaN</td>\n      <td>NaN</td>\n      <td>NaN</td>\n      <td>['SubsampleSentences', 'typo_repeated_char', '...</td>\n    </tr>\n    <tr>\n      <th>Martens, an eight-time prime minister who led coalition governments during the 1980s, is not expected to lead the new coalition. Instead, he will try to seek common ground between the various political parties to form a stable and effective government. The goal is to restore political and economic stability to Belgium, which has been grappling with multiple crises in recent months.</th>\n      <td>True</td>\n      <td>Belgium government collapse: King asks former ...</td>\n      <td>pile</td>\n      <td>gemma:7b</td>\n      <td>{'top_k': None, 'top_p': 0.8860927425776799, '...</td>\n      <td>NaN</td>\n      <td>NaN</td>\n      <td>NaN</td>\n      <td>NaN</td>\n      <td>['SubsampleSentences', 'typo_repeated_char']</td>\n    </tr>\n    <tr>\n      <th>...revealing that over a quarter of these admissions involved patients with a terminal illness. This analysis suggests a significant gap in access to adequate palliative care services, with many patients presenting in hospital too late for effective pain management and symptom control. The Hunter New England Local Health district (HNELHD) is taking a proactive approach to addressing this issue. Recognizing the need for improved palliative care services in the region, the district has embarked on a targeted campaign to:\\n\\n* Increase awareness among general practitioners and other healthcare providers about the importance of early identification and referral of patients with terminal illnesses to specialist palliative care services. * Enhance the availability and accessibility of specialist palliative care services in the region, including the expansion of care options. * Improve the quality and continuity of care for patients with terminal illnesses, by implementing comprehensive care plans that address physical, emotio</th>\n      <td>True</td>\n      <td>EDITORIAL: Hunter campaign to improve palliati...</td>\n      <td>pile</td>\n      <td>gemma:7b</td>\n      <td>{'top_k': None, 'top_p': 0.8860927425776799, '...</td>\n      <td>NaN</td>\n      <td>NaN</td>\n      <td>NaN</td>\n      <td>NaN</td>\n      <td>['SubsampleSentences', 'typo_missing_char', 't...</td>\n    </tr>\n    <tr>\n      <th>enderContext; }}\\n\\nusing namespace std;\\nusing namespace sofa::core;\\nusing namespace sofa::geometry;\\n\\n/ \\brief This class implements the 2D version of Spring constraint solver. */\\ntemplate&lt;typename T&gt;\\nclass SOFA_MECHANICS_API Spring2dConstraintSolver : public ConstraintSolver {\\npublic:\\n    typedef typename SolidObjectTypeTraits&lt;T&gt;::Real Real; // The real type for this template class, defined by the templated argument. private:\\n    enum Method{RK4};  / \\brief Numerical integration method * \\brief Order of Runge-kutta integrator (either RK2 or RK3) *&lt; Time step and its derivative for adaptive time stepping. */ \\n    \\npublic: // Attributes to be serialized in XML configuration file format\\n        \\n    Vector2f m_k01(1);                      ///&lt; The stiffness between point A and B of the first object\\n    Vector3f m_r0;                          ///&lt; Relative position vector from anchor (</th>\n      <td>True</td>\n      <td>/*********************************************...</td>\n      <td>pile</td>\n      <td>solar</td>\n      <td>{'top_k': 20, 'top_p': 0.6529552409555363, 'te...</td>\n      <td>NaN</td>\n      <td>NaN</td>\n      <td>NaN</td>\n      <td>NaN</td>\n      <td>['SubsampleSentences', 'typo_unichar']</td>\n    </tr>\n    <tr>\n      <th>A haptic device or interface can create various sensations such as vibration, pulses, and even more complex patterns to simulate physical interactions in virtual environments. This technology has a wide range of applications across industries like gaming consoles, medical training tools, automotive systems for driver assistance, smartphones, and VR/AR devices among others. By providing tactile feedback that enhances the user experience, haptics can improve safety (e.g., warning drivers about impending collisions), increase immersion in virtual environments, or aid in surgical training by simulating touch sensations during a procedure.</th>\n      <td>True</td>\n      <td>Haptic technology is becoming a more popular w...</td>\n      <td>pile</td>\n      <td>solar</td>\n      <td>{'top_k': 20, 'top_p': 0.6529552409555363, 'te...</td>\n      <td>NaN</td>\n      <td>NaN</td>\n      <td>NaN</td>\n      <td>NaN</td>\n      <td>['SubsampleSentences', 'typo_repeated_char', '...</td>\n    </tr>\n    <tr>\n      <th>That is, all the elements in the array have been converted to strings. To save this with savetxt, use fmt='%s, %s, %s':\\nIn [45]: savetxt('result.csv', c_[list1, list2, list3], fmt='%s, %s, %s')\\n\\nIn [46]: !cat result.csv\\n10, 15, foo\\n20, 25, bar\\n30, 35, baz\\n\\nAlso, instead of c_[list1, list2, list3], you could use zip(list1, list2, list3). Then the savetxt function will handle converting that argument to an array. In [57]: list1 = [100000, 200000, 300000]\\n\\nIn [58]: savetxt('result.csv', zip(list1, list2, list3), fmt='%s, %s, %s')\\n\\nIn [59]: !cat result.csv\\n100000, 15, foo\\n200000, 25, bar\\n300000, 35, baz\\n\\nApparently c_ doesn't do a good job figuring out the appropriate lengths of the strings:\\nIn [60]: c_[list1, list2, list3]\\nOut[60]: \\narray([['100', '15', 'foo'],\\n       ['200', '25', 'bar'],\\n       ['300', '35', 'baz']], \\n      dtype='|S3')\\n\\nBy the way, your data is not already in a numpy array, so I don't think you gain by using savetxt instead of the standard library csv.</th>\n      <td>False</td>\n      <td>NaN</td>\n      <td>pile_human</td>\n      <td>NaN</td>\n      <td>NaN</td>\n      <td>NaN</td>\n      <td>NaN</td>\n      <td>NaN</td>\n      <td>NaN</td>\n      <td>['SubsampleSentences', 'RemoveRandomAdjective']</td>\n    </tr>\n    <tr>\n      <th>rself hydrated. If you choose to consume alcohol, remember that this can make a sunburn worse and diminish your awareness of your body and surroundings. Every spring and summer, we see people that drink too much alcohol, reducing their awareness and causing them to get an intolerable sunburn, fall and break a leg or arm, sustain a severe laceration, fall out of a boat and sustain a life-threatening injury, or worse. Consider these simple actions this Spring Break or the next time you have a social gathering outside. 5 Sun Safety Tips\\n\\nMake sure you have a designated boat and car driver from the start. Bring along plenty of bottles of water and drink them frequently, especially when consuming alcohol. Apply sunscreen before you hit the water or the beach, and re-apply it often. Don't forget snacks/lunch. Make eating an important part of your day. If you're</th>\n      <td>False</td>\n      <td>NaN</td>\n      <td>pile_human</td>\n      <td>NaN</td>\n      <td>NaN</td>\n      <td>NaN</td>\n      <td>NaN</td>\n      <td>NaN</td>\n      <td>NaN</td>\n      <td>['SubsampleSentences', 'typo_skipped_space', '...</td>\n    </tr>\n    <tr>\n      <th>factor: 1.0\\n             uniform: true\\n              mode: FAN_AVG\\n            }\\n          }\\n        }\\n      }\\n    }\\n    second_stage_post_processing {\\n      batch_non_max_suppression {\\n        score_threshold: 0.0\\n        iou_threshold: 0.6\\n        max_detections_per_class: 100\\n        max_total_detections: 100\\n      }\\n      score_converter: SOFTMAX\\n    }\\n    second_stage_localization_loss_weight: 2.0\\n    second_stage_classification_loss_weight: 1.0\\n  }\\n}\\ntrain_config {\\n  batch_size: 24\\n  optimizer {\\n    adam_optimizer {\\n      learning_rate {\\n        constant_learning_rate {\\n          learning_rate: 0.001\\n        }\\n      }\\n    }\\n  }\\n  gradient_clipping_by_norm: 10.0\\n  fine_tune_checkpoint: \"PaTH_TO_BE_CONFIGURED/model.ckpt\"\\n  num_steps: 200000\\n  fine_tune_checkpoint_type: \"detection\"\\n  load_all_detection_checkpoint_vars: true\\n  batch_queue_capacity: 2\\n  num_batch_queue_threads: 1\\n  prefetch_queue_capacity: 1\\n}</th>\n      <td>False</td>\n      <td>NaN</td>\n      <td>pile_human</td>\n      <td>NaN</td>\n      <td>NaN</td>\n      <td>NaN</td>\n      <td>NaN</td>\n      <td>NaN</td>\n      <td>NaN</td>\n      <td>['SubsampleSentences', 'RemoveRandomAdjective'...</td>\n    </tr>\n    <tr>\n      <th>red interviews conducted with key informants were also undertaken to incorporate a range of clinical, academic, health manager, consumer, and carer perspectives. findings from the study including prospective benefits and barriers associated with the implementation of this new service are highlighted and discussed. These findings indicate that a structured and formalized MHNP outpatient service has the potential to address a current deficit in the health-care system by providing timely, accessible, primary prevention, and early intervention mental health care that better meets the needs of the public and is consistent with the Australian National Mental Health Plan (2003-2008). A MHNP outpatient service also provides an important opportunity to explore, expand, and more clearly define the unique and valuable contribution of advanced mental health nursing practice to contemporary health care.</th>\n      <td>False</td>\n      <td>NaN</td>\n      <td>pile_human</td>\n      <td>NaN</td>\n      <td>NaN</td>\n      <td>NaN</td>\n      <td>NaN</td>\n      <td>NaN</td>\n      <td>NaN</td>\n      <td>['SubsampleSentences', 'typo_repeated_char', '...</td>\n    </tr>\n    <tr>\n      <th>ith your order. Copyright 2001-2016 R&amp;W Engraving, Inc. and Quick Copy Center All rights reserved. Privacy Statement: All information collected on this site and during the order process is kept 100% Information is stored on secure servers and never distributed or sold.</th>\n      <td>False</td>\n      <td>NaN</td>\n      <td>pile_human</td>\n      <td>NaN</td>\n      <td>NaN</td>\n      <td>NaN</td>\n      <td>NaN</td>\n      <td>NaN</td>\n      <td>NaN</td>\n      <td>['SubsampleSentences', 'typo_random_space', 'R...</td>\n    </tr>\n    <tr>\n      <th>e equipment you need for a round of golf , the Pro Shop offers a friendly space to have a chat with our pro, Patrick Baker, as well as light refreshments. Pat is a PGA Professional (AA status) and sits on the Gloucester and Somerset PGA committee. Not only does he offer golf lessons, but he also provides full repairs to your golf clubs along with grip replacements if yours becomes worn. There are some quite challenging fairways, but to help you, Pat has devised some expert tips along with details of each hole. And if you don’t have time for a round of golf, try the driving range, you can’t imagi</th>\n      <td>False</td>\n      <td>NaN</td>\n      <td>pile_human</td>\n      <td>NaN</td>\n      <td>NaN</td>\n      <td>NaN</td>\n      <td>NaN</td>\n      <td>NaN</td>\n      <td>NaN</td>\n      <td>['SubsampleSentences', 'typo_unichar', 'typo_e...</td>\n    </tr>\n    <tr>\n      <th>, decentralized digital money. Often, they also help users to keep track of when they can make a new claim at each site.There are a lot of these sites around today, so its a very competitive market, and earning enough from advertising to cover the cost of the coins you are giving away is not easy.Hari ini saya akan berbagi script auto bot untuk mendapatkan bitcoin secara gratis dan tentunya secara otomatis. Our CSGO Coinflip Script works with a skin versus skin deposit system.The video followed a file dump which included the script to an upcoming.Look at most relevant Script jackpot websites out of 597 Thousand at MetricsKey.If you are capable of doing it then building your own fully independent site is the best way to go.Bitdeal - cryptocurrency exchange script as software that suits for starting bitcoin, altcoin trading platform.Bitcoin is the first decentralized peer-to-peer payment network that is powered by its users with no central authority or middlemen.This page lists all bitcoin faucets currently on the system, with sortable columns. Appreciate if you could share your knowledge on how can i get my money back or hold them accountable. Bitcoin Hack 2016 - Home | Facebook\\n\\nBetChain Bitcoin Casino - best online gambling site for\\n\\nAffiliate programs: Finding relevant merchants who run affiliate programs can be a good way to boost your income in a way which is compatible with the use of ad networks like Google Adsense. Create Bitcoin Raffle/Lottery Website Script | Bitcoin\\n\\nWhat is Bitcoin? Introductory</th>\n      <td>False</td>\n      <td>NaN</td>\n      <td>pile_human</td>\n      <td>NaN</td>\n      <td>NaN</td>\n      <td>NaN</td>\n      <td>NaN</td>\n      <td>NaN</td>\n      <td>NaN</td>\n      <td>['SubsampleSentences']</td>\n    </tr>\n    <tr>\n      <th>},\\n    {\\n      \"type\": \"Action.OpenUrl\",\\n      \"title\": \"Ask a question\",\\n      \"url\": \"https://stackoverflow.com/questions/tagged/botframework\"\\n    },\\n    {\\n      \"type\": \"Action.OpenUrl\",\\n      \"title\": \"Learn how to deploy\",\\n      \"url\": \"https://docs.microsoft.com/en-us/azure/bot-service/bot-builder-howto-deploy-azure?view=azure-bot-service-4.0\"\\n    }\\n  ]\\n}</th>\n      <td>False</td>\n      <td>NaN</td>\n      <td>pile_human</td>\n      <td>NaN</td>\n      <td>NaN</td>\n      <td>NaN</td>\n      <td>NaN</td>\n      <td>NaN</td>\n      <td>NaN</td>\n      <td>['SubsampleSentences', 'typo_extra_char', 'Rem...</td>\n    </tr>\n    <tr>\n      <th>ext, a ramp? But you know what? I think the answer is to put more talent on fewer teams. You know, start a super-conference of competitive and talented women. Then, I looked at UConn's start this year, and I'm talking even before the Paradise Jam. They've beaten their opponents by an average of more than 60 points a game. Even when they lose, they don't lose by much, and that's when I came up with today's cartoon.</th>\n      <td>False</td>\n      <td>NaN</td>\n      <td>pile_human</td>\n      <td>NaN</td>\n      <td>NaN</td>\n      <td>NaN</td>\n      <td>NaN</td>\n      <td>NaN</td>\n      <td>NaN</td>\n      <td>['SubsampleSentences']</td>\n    </tr>\n    <tr>\n      <th>Doppler and color flow mapping is more sensitive in picking up minor digress of valvular regurgitation. Several studies have confirmed that the yield of carditis with valvular regurgitation increased with use of echocardiography in patients with acute rheumatic fever. Also echocardiography is of great help in mixed valve lesions to determine the severity of each lesion. Other abnormalities detected on echocardiography in acute carditis include prolapse of the valve, focal nodular thickening of leaflets and pericardial effusion. Jones Criteria are guidelines to assist the physician and should not be substituted for clinical judgement as strictly following them may result in underd</th>\n      <td>False</td>\n      <td>NaN</td>\n      <td>pile_human</td>\n      <td>NaN</td>\n      <td>NaN</td>\n      <td>NaN</td>\n      <td>NaN</td>\n      <td>NaN</td>\n      <td>NaN</td>\n      <td>['SubsampleSentences', 'typo_repeated_char']</td>\n    </tr>\n  </tbody>\n</table>\n</div>"
     },
     "execution_count": 9,
     "metadata": {},
     "output_type": "execute_result"
    }
   ],
   "source": [
    "df = pd.read_csv('resources/data.csv', index_col=0)\n",
    "df"
   ],
   "metadata": {
    "collapsed": false,
    "ExecuteTime": {
     "end_time": "2024-05-10T02:44:35.294285Z",
     "start_time": "2024-05-10T02:44:35.284357Z"
    }
   },
   "id": "7935b6b344722ae0",
   "execution_count": 9
  },
  {
   "cell_type": "code",
   "outputs": [],
   "source": [],
   "metadata": {
    "collapsed": false
   },
   "id": "17cac0f7713fde59"
  }
 ],
 "metadata": {
  "kernelspec": {
   "display_name": "Python 3",
   "language": "python",
   "name": "python3"
  },
  "language_info": {
   "codemirror_mode": {
    "name": "ipython",
    "version": 2
   },
   "file_extension": ".py",
   "mimetype": "text/x-python",
   "name": "python",
   "nbconvert_exporter": "python",
   "pygments_lexer": "ipython2",
   "version": "2.7.6"
  }
 },
 "nbformat": 4,
 "nbformat_minor": 5
}
