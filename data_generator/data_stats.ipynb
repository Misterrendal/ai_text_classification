{
 "cells": [
  {
   "cell_type": "code",
   "outputs": [
    {
     "name": "stdout",
     "output_type": "stream",
     "text": [
      "(51987, 11)\n"
     ]
    },
    {
     "data": {
      "text/plain": "(103974, 11)"
     },
     "execution_count": 4,
     "metadata": {},
     "output_type": "execute_result"
    }
   ],
   "source": [
    "import pandas as pd\n",
    "\n",
    "ai_df = pd.read_pickle('resources/ai_data.pkl')\n",
    "ai_df = ai_df[ai_df['label'] == True]\n",
    "print(ai_df.shape)\n",
    "human_df = pd.read_pickle('resources/human_data.pkl')\n",
    "human_df = human_df[:ai_df.shape[0]]\n",
    "data = pd.concat([ai_df, human_df], axis=0)\n",
    "data.to_pickle('resources/data.pkl')\n",
    "data.shape"
   ],
   "metadata": {
    "collapsed": false,
    "ExecuteTime": {
     "end_time": "2024-05-19T13:45:46.522570Z",
     "start_time": "2024-05-19T13:45:45.509664Z"
    }
   },
   "id": "397227aff7b102e0",
   "execution_count": 4
  },
  {
   "cell_type": "code",
   "outputs": [
    {
     "data": {
      "text/plain": "['mistral:text',\n 'llama3:text',\n 'mixtral:text',\n 'gemma:7b',\n 'command-r',\n 'neural-chat',\n 'zephyr:7b-beta',\n 'openhermes',\n 'wizardcoder',\n 'starling-lm:7b-beta',\n 'yi:34b',\n 'openchat:7b',\n 'dolphin-mistral',\n 'solar',\n 'llama2:13b']"
     },
     "execution_count": 2,
     "metadata": {},
     "output_type": "execute_result"
    }
   ],
   "source": [
    "model_names = ai_df['model_name'].unique().tolist()\n",
    "model_names"
   ],
   "metadata": {
    "collapsed": false,
    "ExecuteTime": {
     "end_time": "2024-05-19T13:42:37.393280Z",
     "start_time": "2024-05-19T13:42:37.385992Z"
    }
   },
   "id": "7a7f4c0ac0a48f5",
   "execution_count": 2
  },
  {
   "cell_type": "code",
   "outputs": [
    {
     "data": {
      "text/plain": "model_name\nmistral:text           5000\nllama3:text            5000\nmixtral:text           5000\ngemma:7b               5000\ncommand-r              5000\nneural-chat            5000\nzephyr:7b-beta         5000\nopenhermes             5000\nwizardcoder            5000\nstarling-lm:7b-beta    1987\nyi:34b                 1000\nopenchat:7b            1000\ndolphin-mistral        1000\nsolar                  1000\nllama2:13b             1000\nName: label, dtype: int64"
     },
     "execution_count": 3,
     "metadata": {},
     "output_type": "execute_result"
    }
   ],
   "source": [
    "ai_df.groupby('model_name').count()['label'][model_names]"
   ],
   "metadata": {
    "collapsed": false,
    "ExecuteTime": {
     "end_time": "2024-05-19T13:42:41.973916Z",
     "start_time": "2024-05-19T13:42:41.949281Z"
    }
   },
   "id": "c7415bf607d9dc38",
   "execution_count": 3
  },
  {
   "cell_type": "code",
   "outputs": [],
   "source": [
    "import pandas as pd\n",
    "\n",
    "ai_df = pd.read_pickle('resources/ai_data.pkl')\n",
    "human_df = pd.read_pickle('resources/human_data.pkl')\n",
    "\n",
    "model_names = ai_df['model_name'].unique().tolist()\n",
    "\n",
    "ai_df = ai_df.groupby('model_name').head(20_000)\n",
    "human_df = human_df[:ai_df.shape[0]]\n",
    "\n",
    "data = pd.concat([ai_df, human_df], axis=0)\n",
    "data.to_pickle('resources/data.pkl')"
   ],
   "metadata": {
    "collapsed": false,
    "ExecuteTime": {
     "end_time": "2024-05-16T14:07:45.953850Z",
     "start_time": "2024-05-16T14:07:44.928871Z"
    }
   },
   "id": "92c333d0bc37da97",
   "execution_count": 31
  },
  {
   "cell_type": "code",
   "outputs": [],
   "source": [],
   "metadata": {
    "collapsed": false
   },
   "id": "acf03d2235987187"
  }
 ],
 "metadata": {
  "kernelspec": {
   "display_name": "Python 3",
   "language": "python",
   "name": "python3"
  },
  "language_info": {
   "codemirror_mode": {
    "name": "ipython",
    "version": 2
   },
   "file_extension": ".py",
   "mimetype": "text/x-python",
   "name": "python",
   "nbconvert_exporter": "python",
   "pygments_lexer": "ipython2",
   "version": "2.7.6"
  }
 },
 "nbformat": 4,
 "nbformat_minor": 5
}
