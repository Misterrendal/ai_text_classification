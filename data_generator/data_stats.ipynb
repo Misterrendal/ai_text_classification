{
 "cells": [
  {
   "cell_type": "code",
   "outputs": [],
   "source": [
    "import pandas as pd\n",
    "\n",
    "ai_df = pd.read_pickle('resources/ai_data.pkl')\n",
    "human_csv = pd.read_pickle('resources/human_data.pkl')\n",
    "data = pd.concat([ai_df, human_csv], axis=0)\n",
    "data.to_pickle('resources/data.pkl')"
   ],
   "metadata": {
    "collapsed": false,
    "ExecuteTime": {
     "end_time": "2024-05-16T04:12:50.088613Z",
     "start_time": "2024-05-16T04:12:43.458959Z"
    }
   },
   "id": "397227aff7b102e0",
   "execution_count": 1
  },
  {
   "cell_type": "code",
   "outputs": [
    {
     "data": {
      "text/plain": "['casperhansen/llama-3-8b-instruct-awq',\n 'TheBloke/Mistral-7B-Instruct-v0.2-AWQ',\n 'casperhansen/gemma-7b-it-awq',\n 'TheBloke/neural-chat-7B-v3-3-AWQ',\n 'TheBloke/zephyr-7B-beta-AWQ',\n 'TheBloke/OpenHermes-2.5-Mistral-7B-16k-AWQ',\n 'TheBloke/WizardCoder-33B-V1.1-AWQ',\n None]"
     },
     "execution_count": 2,
     "metadata": {},
     "output_type": "execute_result"
    }
   ],
   "source": [
    "data['model_name'].unique().tolist()"
   ],
   "metadata": {
    "collapsed": false,
    "ExecuteTime": {
     "end_time": "2024-05-16T04:12:50.160321Z",
     "start_time": "2024-05-16T04:12:50.090411Z"
    }
   },
   "id": "7a7f4c0ac0a48f5",
   "execution_count": 2
  },
  {
   "cell_type": "code",
   "outputs": [
    {
     "data": {
      "text/plain": "(571534, 11)"
     },
     "execution_count": 3,
     "metadata": {},
     "output_type": "execute_result"
    }
   ],
   "source": [
    "ai_df.shape"
   ],
   "metadata": {
    "collapsed": false,
    "ExecuteTime": {
     "end_time": "2024-05-16T04:12:50.167637Z",
     "start_time": "2024-05-16T04:12:50.161392Z"
    }
   },
   "id": "6bcb0a8de20bbce6",
   "execution_count": 3
  },
  {
   "cell_type": "code",
   "outputs": [],
   "source": [],
   "metadata": {
    "collapsed": false
   },
   "id": "558bba517ab4e50a"
  }
 ],
 "metadata": {
  "kernelspec": {
   "display_name": "Python 3",
   "language": "python",
   "name": "python3"
  },
  "language_info": {
   "codemirror_mode": {
    "name": "ipython",
    "version": 2
   },
   "file_extension": ".py",
   "mimetype": "text/x-python",
   "name": "python",
   "nbconvert_exporter": "python",
   "pygments_lexer": "ipython2",
   "version": "2.7.6"
  }
 },
 "nbformat": 4,
 "nbformat_minor": 5
}
